{
  "nbformat": 4,
  "nbformat_minor": 0,
  "metadata": {
    "colab": {
      "name": "2_Constant.ipynb",
      "provenance": [],
      "collapsed_sections": [],
      "authorship_tag": "ABX9TyMgWd4KZcoxe8dAnukYss/+",
      "include_colab_link": true
    },
    "kernelspec": {
      "name": "python3",
      "display_name": "Python 3"
    },
    "language_info": {
      "name": "python"
    }
  },
  "cells": [
    {
      "cell_type": "markdown",
      "metadata": {
        "id": "view-in-github",
        "colab_type": "text"
      },
      "source": [
        "<a href=\"https://colab.research.google.com/github/jay-thakur/DataScienceTutorial/blob/main/Tensorflow/2_Constant.ipynb\" target=\"_parent\"><img src=\"https://colab.research.google.com/assets/colab-badge.svg\" alt=\"Open In Colab\"/></a>"
      ]
    },
    {
      "cell_type": "markdown",
      "metadata": {
        "id": "UwJG4yzWacPF"
      },
      "source": [
        "# Constant in Tensor"
      ]
    },
    {
      "cell_type": "code",
      "metadata": {
        "colab": {
          "base_uri": "https://localhost:8080/"
        },
        "id": "059JTGPtEF1i",
        "outputId": "f81d9896-4974-4855-fa61-1198fea390f3"
      },
      "source": [
        "import tensorflow as tf\n",
        "print(\"TensorFlow version:\", tf.__version__)"
      ],
      "execution_count": null,
      "outputs": [
        {
          "output_type": "stream",
          "name": "stdout",
          "text": [
            "TensorFlow version: 2.6.0\n"
          ]
        }
      ]
    },
    {
      "cell_type": "markdown",
      "metadata": {
        "id": "sgduVoNPv1aY"
      },
      "source": [
        "# What is a constant in Tensorflow?\n",
        "\n",
        "In TensorFlow, a constant is a special Tensor that cannot be modified while the graph is running."
      ]
    },
    {
      "cell_type": "markdown",
      "metadata": {
        "id": "NDdaPNhxwjBY"
      },
      "source": [
        "# How to create a constant in Tensorflow ?\n",
        "we can create a constant tensor from a tensor-like object using `tf.constant`."
      ]
    },
    {
      "cell_type": "markdown",
      "metadata": {
        "id": "F-0hWnykw0-t"
      },
      "source": [
        "Let's create constant."
      ]
    },
    {
      "cell_type": "markdown",
      "metadata": {
        "id": "ntja4atjccaY"
      },
      "source": [
        "## Creating a Scaler constant"
      ]
    },
    {
      "cell_type": "code",
      "metadata": {
        "colab": {
          "base_uri": "https://localhost:8080/"
        },
        "id": "qKybkeq9bp4f",
        "outputId": "79adcc21-df8b-4311-e302-f5a5235796f7"
      },
      "source": [
        "scalar = tf.constant(1)\n",
        "print (\"Scalar (1 entry):\\n\\n %s\" % scalar)"
      ],
      "execution_count": null,
      "outputs": [
        {
          "output_type": "stream",
          "name": "stdout",
          "text": [
            "Scalar (1 entry):\n",
            "\n",
            " tf.Tensor(1, shape=(), dtype=int32)\n"
          ]
        }
      ]
    },
    {
      "cell_type": "markdown",
      "metadata": {
        "id": "f51WRoifxmtz"
      },
      "source": [
        "we can also define dtype like this -"
      ]
    },
    {
      "cell_type": "code",
      "metadata": {
        "id": "2nLqoRY2yQd2",
        "colab": {
          "base_uri": "https://localhost:8080/"
        },
        "outputId": "60d41cfd-4ea1-40c2-86e8-55c4166feb62"
      },
      "source": [
        "scalar = tf.constant(1, dtype=tf.float64)\n",
        "print (\"Scalar (1 entry):\\n\\n %s\" % scalar)"
      ],
      "execution_count": null,
      "outputs": [
        {
          "output_type": "stream",
          "name": "stdout",
          "text": [
            "Scalar (1 entry):\n",
            "\n",
            " tf.Tensor(1.0, shape=(), dtype=float64)\n"
          ]
        }
      ]
    },
    {
      "cell_type": "markdown",
      "metadata": {
        "id": "Phrwf1Uwyay_"
      },
      "source": [
        "Here we can see constant value is float (`1.0`)"
      ]
    },
    {
      "cell_type": "markdown",
      "metadata": {
        "id": "tc1v61ndctzK"
      },
      "source": [
        "## Creating a Vector constant"
      ]
    },
    {
      "cell_type": "code",
      "metadata": {
        "id": "EqxXF42GD0sf",
        "colab": {
          "base_uri": "https://localhost:8080/"
        },
        "outputId": "fd241049-83d4-4e9b-85ee-f3c342b1b6d2"
      },
      "source": [
        "vector = tf.constant([1], name = 'vector_1')\n",
        "print (\"Vector (1 entries) :\\n\\n %s\" % vector)"
      ],
      "execution_count": null,
      "outputs": [
        {
          "output_type": "stream",
          "name": "stdout",
          "text": [
            "Vector (1 entries) :\n",
            "\n",
            " tf.Tensor([1], shape=(1,), dtype=int32)\n"
          ]
        }
      ]
    },
    {
      "cell_type": "code",
      "metadata": {
        "colab": {
          "base_uri": "https://localhost:8080/"
        },
        "id": "EDko2UDry2op",
        "outputId": "6da8b6be-71a1-4253-ec3d-13a8815a6a85"
      },
      "source": [
        "vector = tf.constant([1, 2, 3], name = 'vector_1')\n",
        "print (\"Vector (3 entries) :\\n\\n %s\" % vector)"
      ],
      "execution_count": null,
      "outputs": [
        {
          "output_type": "stream",
          "name": "stdout",
          "text": [
            "Vector (3 entries) :\n",
            "\n",
            " tf.Tensor([1 2 3], shape=(3,), dtype=int32)\n"
          ]
        }
      ]
    },
    {
      "cell_type": "markdown",
      "metadata": {
        "id": "PiHB5JWofwRW"
      },
      "source": [
        "As we can see, it just shows the value, shape and dtype of the tensor in the graph, We can get it's value as a Numpy array by calling `.numpy()`."
      ]
    },
    {
      "cell_type": "code",
      "metadata": {
        "colab": {
          "base_uri": "https://localhost:8080/"
        },
        "id": "76jbwAnsEA4u",
        "outputId": "469139a1-1879-48e4-bb7e-8fb1052978c4"
      },
      "source": [
        "tf.print(vector.numpy())"
      ],
      "execution_count": null,
      "outputs": [
        {
          "output_type": "stream",
          "name": "stdout",
          "text": [
            "array([1, 2, 3], dtype=int32)\n"
          ]
        }
      ]
    },
    {
      "cell_type": "markdown",
      "metadata": {
        "id": "Rj1DWGE9d_e7"
      },
      "source": [
        "## Creating matrix tensor"
      ]
    },
    {
      "cell_type": "code",
      "metadata": {
        "colab": {
          "base_uri": "https://localhost:8080/"
        },
        "id": "37PoLOiDeHz8",
        "outputId": "0a046e73-443c-40ac-f236-5dbc7c13ebd9"
      },
      "source": [
        "matrix = tf.constant([[1, 2, 3], [4, 5, 6], [7, 8, 9]])\n",
        "print (\"Matrix (3x3 entries):\\n\\n %s\" % matrix)"
      ],
      "execution_count": null,
      "outputs": [
        {
          "output_type": "stream",
          "name": "stdout",
          "text": [
            "Matrix (3x3 entries):\n",
            "\n",
            " tf.Tensor(\n",
            "[[1 2 3]\n",
            " [4 5 6]\n",
            " [7 8 9]], shape=(3, 3), dtype=int32)\n"
          ]
        }
      ]
    },
    {
      "cell_type": "markdown",
      "metadata": {
        "id": "ZY79Rhy94Q0G"
      },
      "source": [
        "# Creating a Tensor"
      ]
    },
    {
      "cell_type": "code",
      "metadata": {
        "id": "S7GVJ11iCxiu",
        "colab": {
          "base_uri": "https://localhost:8080/"
        },
        "outputId": "ac6a484d-91bb-40ee-bb62-a8a10275c4e7"
      },
      "source": [
        "tensor = tf.constant( [ [[1,2,3],[2,3,4],[3,4,5]] , [[4,5,6],[5,6,7],[6,7,8]] , [[7,8,9],[8,9,10],[9,10,11]] ] )\n",
        "print (\"Tensor (3x3x3 entries) :\\n\\n %s\" % tensor)"
      ],
      "execution_count": null,
      "outputs": [
        {
          "output_type": "stream",
          "name": "stdout",
          "text": [
            "Tensor (3x3x3 entries) :\n",
            "\n",
            " tf.Tensor(\n",
            "[[[ 1  2  3]\n",
            "  [ 2  3  4]\n",
            "  [ 3  4  5]]\n",
            "\n",
            " [[ 4  5  6]\n",
            "  [ 5  6  7]\n",
            "  [ 6  7  8]]\n",
            "\n",
            " [[ 7  8  9]\n",
            "  [ 8  9 10]\n",
            "  [ 9 10 11]]], shape=(3, 3, 3), dtype=int32)\n"
          ]
        }
      ]
    },
    {
      "cell_type": "markdown",
      "metadata": {
        "id": "CybO8NkC4ynf"
      },
      "source": [
        "# Tensor Attributes"
      ]
    },
    {
      "cell_type": "markdown",
      "metadata": {
        "id": "9_3jicTif4QM"
      },
      "source": [
        "like numpy, Tensor attributes are `shape` `dtype`"
      ]
    },
    {
      "cell_type": "code",
      "metadata": {
        "id": "9NULnC6-f_Hz",
        "colab": {
          "base_uri": "https://localhost:8080/"
        },
        "outputId": "47f8ff88-42d2-40f9-99c9-e8f7eb97c84b"
      },
      "source": [
        "print('Scaler shape : %s, dtype : %s \\n' %(scalar.shape, scalar.dtype))\n",
        "print('Vector shape : %s, dtype : %s \\n' %(vector.shape, vector.dtype))\n",
        "print('Matrix shape : %s, dtype : %s \\n' %(matrix.shape, matrix.dtype))\n",
        "print('Tensor shape : %s, dtype : %s \\n' %(tensor.shape, tensor.dtype))"
      ],
      "execution_count": null,
      "outputs": [
        {
          "output_type": "stream",
          "name": "stdout",
          "text": [
            "Scaler shape : (), dtype : <dtype: 'float64'> \n",
            "\n",
            "Vector shape : (3,), dtype : <dtype: 'int32'> \n",
            "\n",
            "Matrix shape : (3, 3), dtype : <dtype: 'int32'> \n",
            "\n",
            "Tensor shape : (3, 3, 3), dtype : <dtype: 'int32'> \n",
            "\n"
          ]
        }
      ]
    },
    {
      "cell_type": "markdown",
      "metadata": {
        "id": "lza9qOgcxSih"
      },
      "source": [
        "# Syntax of creating constant - \n",
        "\n",
        "\n",
        "`tf.constant(\n",
        "    value, dtype=None, shape=None, name='Const'\n",
        ")`\n",
        "\n",
        "<a href=\"https://www.tensorflow.org/api_docs/python/tf/constant#args\"> learn more</a>\n",
        "\n",
        "* If the argument dtype is not specified, then the type is inferred from the type of value.\n",
        "\n",
        "* If dtype is specified, the resulting tensor values are cast to the requested dtype.\n",
        "\n",
        "* If shape is set, the value is reshaped to match. Scalars are expanded to fill the shape:\n"
      ]
    },
    {
      "cell_type": "markdown",
      "metadata": {
        "id": "dzEt2I9VgE3H"
      },
      "source": [
        "# Creating Zeros & Ones Tensor\n",
        "\n",
        "we can create `zeros` & `ones` constant tensors using `tf.zeros` and `tf.ones` (just like `np.zeros` and `np.ones`):"
      ]
    },
    {
      "cell_type": "markdown",
      "metadata": {
        "id": "VbpCs4se6lEq"
      },
      "source": [
        "#### Creating Zeros tensor"
      ]
    },
    {
      "cell_type": "code",
      "metadata": {
        "colab": {
          "base_uri": "https://localhost:8080/"
        },
        "id": "LyCkQgCV6qUn",
        "outputId": "2d3a01ff-16cf-4036-a82d-87d5c05f41bd"
      },
      "source": [
        "print(tf.zeros(shape=(2, 2)))"
      ],
      "execution_count": null,
      "outputs": [
        {
          "output_type": "stream",
          "name": "stdout",
          "text": [
            "tf.Tensor(\n",
            "[[0. 0.]\n",
            " [0. 0.]], shape=(2, 2), dtype=float32)\n"
          ]
        }
      ]
    },
    {
      "cell_type": "markdown",
      "metadata": {
        "id": "DJwgwbFH6uJx"
      },
      "source": [
        "#### Creating Ones tensor"
      ]
    },
    {
      "cell_type": "code",
      "metadata": {
        "colab": {
          "base_uri": "https://localhost:8080/"
        },
        "id": "o-ExRS1KgH4O",
        "outputId": "b127ed5e-ef02-4807-ff06-5a99b37c0ec4"
      },
      "source": [
        "print(tf.ones(shape=(2, 2)))"
      ],
      "execution_count": null,
      "outputs": [
        {
          "output_type": "stream",
          "name": "stdout",
          "text": [
            "tf.Tensor(\n",
            "[[1. 1.]\n",
            " [1. 1.]], shape=(2, 2), dtype=float32)\n"
          ]
        }
      ]
    },
    {
      "cell_type": "markdown",
      "metadata": {
        "id": "mkvzsnoWAJBB"
      },
      "source": [
        "# Generating Random values"
      ]
    },
    {
      "cell_type": "markdown",
      "metadata": {
        "id": "_VFhe_lkAbHG"
      },
      "source": [
        "This is all pretty [normal](https://www.tensorflow.org/api_docs/python/tf/random/normal):"
      ]
    },
    {
      "cell_type": "code",
      "metadata": {
        "colab": {
          "base_uri": "https://localhost:8080/"
        },
        "id": "PMwkotCdAOvx",
        "outputId": "cb72e117-474e-48a8-e403-1fa5368802c0"
      },
      "source": [
        "normal_values = tf.random.normal(shape=(2, 2), mean=0., stddev=1.)\n",
        "print('Random Values drawn from normal distribution :\\n\\n', normal_values)"
      ],
      "execution_count": null,
      "outputs": [
        {
          "output_type": "stream",
          "name": "stdout",
          "text": [
            "Random Values drawn from normal distribution :\n",
            "\n",
            " tf.Tensor(\n",
            "[[ 0.6263331   0.68845373]\n",
            " [ 1.0842736  -0.48697865]], shape=(2, 2), dtype=float32)\n"
          ]
        }
      ]
    },
    {
      "cell_type": "markdown",
      "metadata": {
        "id": "qYhxW6dVAUcg"
      },
      "source": [
        "And here's an integer tensor with values drawn from a random [uniform](https://www.tensorflow.org/api_docs/python/tf/random/uniform) distribution:"
      ]
    },
    {
      "cell_type": "code",
      "metadata": {
        "colab": {
          "base_uri": "https://localhost:8080/"
        },
        "id": "Wb62dlpGAYDT",
        "outputId": "3c2567cd-74d0-4908-c8d3-b1233cff4fe0"
      },
      "source": [
        "uniform_values = tf.random.uniform(shape=(2, 2), minval=0, maxval=10, dtype='int32')\n",
        "print('Random Values drawn from uniform distribution :\\n\\n', uniform_values)"
      ],
      "execution_count": null,
      "outputs": [
        {
          "output_type": "stream",
          "name": "stdout",
          "text": [
            "Random Values drawn from uniform distribution :\n",
            "\n",
            " tf.Tensor(\n",
            "[[6 7]\n",
            " [8 9]], shape=(2, 2), dtype=int32)\n"
          ]
        }
      ]
    },
    {
      "cell_type": "markdown",
      "metadata": {
        "id": "sq03lgF8xJrd"
      },
      "source": [
        "# References\n",
        "\n",
        "https://www.tensorflow.org/api_docs/python/tf/constant\n",
        "\n",
        "https://www.easy-tensorflow.com/tf-tutorials/basics/tensor-types\n",
        "\n",
        "https://github.com/SciSharp/TensorFlow.NET/blob/master/docs/source/Constant.md\n",
        "\n",
        "https://github.com/farhadkamangar/CSE5368 \n",
        "\n",
        "https://cognitiveclass.ai/courses/course-v1:BigDataUniversity+ML0120EN+v2\n"
      ]
    },
    {
      "cell_type": "code",
      "metadata": {
        "id": "6aMLncfPZDbo"
      },
      "source": [
        ""
      ],
      "execution_count": null,
      "outputs": []
    }
  ]
}