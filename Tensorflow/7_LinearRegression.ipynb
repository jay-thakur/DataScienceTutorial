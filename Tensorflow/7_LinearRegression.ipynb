{
  "nbformat": 4,
  "nbformat_minor": 0,
  "metadata": {
    "colab": {
      "name": "7_LinearRegression.ipynb",
      "provenance": [],
      "collapsed_sections": [],
      "authorship_tag": "ABX9TyP7L1o7mzy57Y/NynUKPH6z",
      "include_colab_link": true
    },
    "kernelspec": {
      "name": "python3",
      "display_name": "Python 3"
    },
    "language_info": {
      "name": "python"
    }
  },
  "cells": [
    {
      "cell_type": "markdown",
      "metadata": {
        "id": "view-in-github",
        "colab_type": "text"
      },
      "source": [
        "<a href=\"https://colab.research.google.com/github/jay-thakur/DataScienceTutorial/blob/main/Tensorflow/7_LinearRegression.ipynb\" target=\"_parent\"><img src=\"https://colab.research.google.com/assets/colab-badge.svg\" alt=\"Open In Colab\"/></a>"
      ]
    },
    {
      "cell_type": "code",
      "metadata": {
        "colab": {
          "base_uri": "https://localhost:8080/"
        },
        "id": "53ukt2SNxsqJ",
        "outputId": "b03594c1-4d8f-4811-98bd-138d65021572"
      },
      "source": [
        "import numpy as np\n",
        "import matplotlib.pyplot as plt\n",
        "%matplotlib inline\n",
        "plt.rcParams['figure.figsize'] = (6, 6)\n",
        "\n",
        "import tensorflow as tf\n",
        "print(\"TensorFlow version:\", tf.__version__)"
      ],
      "execution_count": 42,
      "outputs": [
        {
          "output_type": "stream",
          "name": "stdout",
          "text": [
            "TensorFlow version: 2.7.0\n"
          ]
        }
      ]
    },
    {
      "cell_type": "markdown",
      "metadata": {
        "id": "Dzsfchoi6958"
      },
      "source": [
        "# What is Linear Regression?"
      ]
    },
    {
      "cell_type": "markdown",
      "metadata": {
        "id": "zKZVS-_IPY0K"
      },
      "source": [
        "I hope, we all have seen these equations -\n",
        "\n",
        "$$Distance = Speed \\times Time$$\n",
        "\n",
        "$$Speed = Acceleration \\times Time$$"
      ]
    },
    {
      "cell_type": "markdown",
      "metadata": {
        "id": "PkyV09B0Pwqg"
      },
      "source": [
        "Let's suppose if we have already some `initialDistance` or `Initial Speed` then can we write the above questions like this - "
      ]
    },
    {
      "cell_type": "markdown",
      "metadata": {
        "id": "ewu27UHeMH5m"
      },
      "source": [
        "$$Distance Traveled = Speed \\times Time + Initial Distance$$\n",
        "\n",
        "$$Speed = Acceleration \\times Time + Initial Speed$$"
      ]
    },
    {
      "cell_type": "markdown",
      "metadata": {
        "id": "tlV2_VOyQhN_"
      },
      "source": [
        "ok. Now Let's take our above `DistanceTraveled` equation.\n",
        "\n",
        "$$Distance Traveled = Speed \\times Time + Initial Distance$$"
      ]
    },
    {
      "cell_type": "markdown",
      "metadata": {
        "id": "OFzC3LWQRRry"
      },
      "source": [
        "\n",
        "\n",
        "Let's say \n",
        "\n",
        "D = `DistanceTraveled`\n",
        "\n",
        "S = `Speed`\n",
        "\n",
        "T = `Time`\n",
        "\n",
        "d = `InitialDistance`\n",
        "\n",
        "so our equation will be this - \n",
        "\n",
        "$$D = S*T + d$$\n",
        "\n",
        "Have we seen equation like this before ? Don't remember ? \n",
        "\n",
        "mmmmmm... ok. Let me replace `S` to `m`, `T` to `X` & `d` to `c`\n",
        "\n",
        "Now, How about this ? -\n",
        "\n",
        "$$y = m*X + c$$\n",
        "\n",
        "Would you mind if i write like this ?\n",
        "\n",
        "$$y = mX + c$$\n",
        "\n",
        "I am sure, we must have encountered this before.\n",
        "\n",
        "Yes, Yes this is the equation of line (Linear Equation) where `X` is the `independent variable`, `y` is the `dependent variable`, `m` is `slope/gradient` and 'c` is the `intercept`.\n",
        "\n",
        "In Machine Learning, we call this equation as **Simple Linear Model** where `X` is the input data, `m` and `c` are the parameters we adjust and `y` is the prediction. we also call this **Simple Linear Regression Model**."
      ]
    },
    {
      "cell_type": "markdown",
      "metadata": {
        "id": "iLJ9NGkvvoyn"
      },
      "source": [
        "Let's understand this by example - "
      ]
    },
    {
      "cell_type": "code",
      "metadata": {
        "id": "DZdrNQt1M3Bw",
        "colab": {
          "base_uri": "https://localhost:8080/",
          "height": 507
        },
        "outputId": "2fe51fed-0780-4334-f0eb-4d333ae326a8"
      },
      "source": [
        "import numpy as np\n",
        "import matplotlib.pyplot as plt\n",
        "%matplotlib inline\n",
        "\n",
        "plt.rcParams['figure.figsize'] = (6, 6)\n",
        "\n",
        "X = np.arange(0.0, 5.0, 0.1)\n",
        "print(\"X data ::\\n\", X)\n",
        "\n",
        "## the slope and intercept\n",
        "m = 1\n",
        "c = 0\n",
        "\n",
        "y = m * X + c \n",
        "\n",
        "print(\"\\n******************\\n\")\n",
        "\n",
        "plt.plot(X, y) \n",
        "plt.ylabel('Dependent Variable')\n",
        "plt.xlabel('Indepdendent Variable')\n",
        "plt.show()"
      ],
      "execution_count": 43,
      "outputs": [
        {
          "output_type": "stream",
          "name": "stdout",
          "text": [
            "X data ::\n",
            " [0.  0.1 0.2 0.3 0.4 0.5 0.6 0.7 0.8 0.9 1.  1.1 1.2 1.3 1.4 1.5 1.6 1.7\n",
            " 1.8 1.9 2.  2.1 2.2 2.3 2.4 2.5 2.6 2.7 2.8 2.9 3.  3.1 3.2 3.3 3.4 3.5\n",
            " 3.6 3.7 3.8 3.9 4.  4.1 4.2 4.3 4.4 4.5 4.6 4.7 4.8 4.9]\n",
            "\n",
            "******************\n",
            "\n"
          ]
        },
        {
          "output_type": "display_data",
          "data": {
            "image/png": "[encoded data removed]",
            "text/plain": [
              "<Figure size 432x432 with 1 Axes>"
            ]
          },
          "metadata": {
            "needs_background": "light"
          }
        }
      ]
    },
    {
      "cell_type": "markdown",
      "metadata": {
        "id": "qPHAKX_YwgQc"
      },
      "source": [
        "Its a  `straight line`, and by adjusting the **slope** parameter we will change the **angle** between the line and the independent variable axis, and the \"intercept parameter\" will affect where it crosses the dependent variable's axis. and then use it to predict future values."
      ]
    },
    {
      "cell_type": "markdown",
      "metadata": {
        "id": "I9ysV2XpPrzS"
      },
      "source": [
        "But wait!! **What does Regression mean ?** - Regression is a statistical process for estimating the relationship between a dependent variable and one or more independent variable(s)."
      ]
    },
    {
      "cell_type": "markdown",
      "metadata": {
        "id": "gZzobNNHMkQG"
      },
      "source": [
        "# So How is Linear Regression performed?\n",
        "\n",
        "When we want to perform a linear regression, what we will do is fit a simple linear model to the dataset, we adjust the **slope/gradient** and **intercept** parameters to the data the best way possible, Hence closer the model comes to describing each ocurrence, the better it will be at representing them.\n",
        "\n",
        "### A Surface Level Example\n",
        "Let's take an example of a data set with one feature and one label.\n",
        "\n"
      ]
    },
    {
      "cell_type": "code",
      "metadata": {
        "id": "rjZ7wgdPIEqs",
        "colab": {
          "base_uri": "https://localhost:8080/",
          "height": 395
        },
        "outputId": "9ccffae9-a837-4b76-9b7d-1a15fcaf6fbf"
      },
      "source": [
        "###How it Works\n",
        "\n",
        "import matplotlib.pyplot as plt\n",
        "import numpy as np\n",
        "\n",
        "X = [1, 2, 2.5, 3, 4]\n",
        "y = [1, 4, 7, 9, 15]\n",
        "\n",
        "plt.plot(X, y, 'ro')\n",
        "plt.axis([0, 6, 0, 20])"
      ],
      "execution_count": 44,
      "outputs": [
        {
          "output_type": "execute_result",
          "data": {
            "text/plain": [
              "(0.0, 6.0, 0.0, 20.0)"
            ]
          },
          "metadata": {},
          "execution_count": 44
        },
        {
          "output_type": "display_data",
          "data": {
            "image/png": "[encoded data removed]",
            "text/plain": [
              "<Figure size 432x432 with 1 Axes>"
            ]
          },
          "metadata": {
            "needs_background": "light"
          }
        }
      ]
    },
    {
      "cell_type": "code",
      "metadata": {
        "id": "ScLVbEaJxEsf",
        "colab": {
          "base_uri": "https://localhost:8080/",
          "height": 378
        },
        "outputId": "0e629745-123d-4034-ac6a-f9a4a285eb2b"
      },
      "source": [
        "plt.plot(X, y, 'ro')\n",
        "plt.axis([0, 6, 0, 20])\n",
        "plt.plot(np.unique(X), np.poly1d(np.polyfit(X, y, 1))(np.unique(X)))\n",
        "plt.show()"
      ],
      "execution_count": 45,
      "outputs": [
        {
          "output_type": "display_data",
          "data": {
            "image/png": "[encoded data removed]",
            "text/plain": [
              "<Figure size 432x432 with 1 Axes>"
            ]
          },
          "metadata": {
            "needs_background": "light"
          }
        }
      ]
    },
    {
      "cell_type": "markdown",
      "metadata": {
        "id": "4cO9dr4mxBlw"
      },
      "source": [
        "Once we've generated this line for our dataset, we can use its equation to predict future values. We just pass the features of the data point we would like to predict into the equation of the line and use the output as our prediction."
      ]
    },
    {
      "cell_type": "markdown",
      "metadata": {
        "id": "XXKHmKLs0t-0"
      },
      "source": [
        "can we guess, **Why this is called as Linear?**. because it assumes that the relationship between dependent variable `y` and independent variable `x` is **LINEAR**."
      ]
    },
    {
      "cell_type": "markdown",
      "metadata": {
        "id": "ij4schMa6YY8"
      },
      "source": [
        "Generally in Neural Network we use `W` (weights)instead of `m` . and `b` (bias) instead of `c` we will also follow this now onwards."
      ]
    },
    {
      "cell_type": "markdown",
      "metadata": {
        "id": "Pb5Qmd-wK4hM"
      },
      "source": [
        "# Linear Regression with Tensorflow"
      ]
    },
    {
      "cell_type": "markdown",
      "metadata": {
        "id": "E9M7Gfa3yxb2"
      },
      "source": [
        "Let's see first, the steps involved in solving of any machine learning problems."
      ]
    },
    {
      "cell_type": "markdown",
      "metadata": {
        "id": "Hovf2saWyKXh"
      },
      "source": [
        "### Steps to solve Machine Learning Problems\n",
        "\n",
        "Solving a machine learning problem usually consists of the following steps:\n",
        "\n",
        "* Obtain training data.\n",
        "* Define the model.\n",
        "* Define a loss function.\n",
        "* Run through the training data, calculating loss from the ideal value\n",
        "* Calculate gradients for that loss and use an optimizer to adjust the variables to fit the data.\n",
        "*  Evaluate your results.\n"
      ]
    },
    {
      "cell_type": "markdown",
      "metadata": {
        "id": "3Q6ZFJp-zyWZ"
      },
      "source": [
        "### Data points\n",
        "\n",
        "we will create inputs (usually denoted as`X`) and outputs (usually denoted as `y`, called as `labels`) and Our goal is to learn from paired inputs and outputs so that we can predict the value of an output from an input."
      ]
    },
    {
      "cell_type": "code",
      "metadata": {
        "colab": {
          "base_uri": "https://localhost:8080/",
          "height": 374
        },
        "id": "cqgCaYFPNPdC",
        "outputId": "9681de11-b2b8-4216-a337-1edf4f979fea"
      },
      "source": [
        "# Let's define True weight and True bias, it's actual line parameters\n",
        "TRUE_W = 3.0\n",
        "TRUE_B = 2.0\n",
        "\n",
        "NUM_EXAMPLES = 1000\n",
        "\n",
        "# A vector of random x values\n",
        "x = tf.random.normal(shape=[NUM_EXAMPLES])\n",
        "\n",
        "# Generate some noise\n",
        "noise = tf.random.normal(shape=[NUM_EXAMPLES])\n",
        "\n",
        "# Calculate y\n",
        "y = x * TRUE_W + TRUE_B + noise\n",
        "\n",
        "# Plot all the data\n",
        "import matplotlib.pyplot as plt\n",
        "\n",
        "plt.scatter(x, y, c=\"b\")\n",
        "plt.show()"
      ],
      "execution_count": 46,
      "outputs": [
        {
          "output_type": "display_data",
          "data": {
            "image/png": "[encoded data removed]",
            "text/plain": [
              "<Figure size 432x432 with 1 Axes>"
            ]
          },
          "metadata": {
            "needs_background": "light"
          }
        }
      ]
    },
    {
      "cell_type": "markdown",
      "metadata": {
        "id": "98JIlaE5UFxS"
      },
      "source": [
        "### Define the Model"
      ]
    },
    {
      "cell_type": "code",
      "metadata": {
        "colab": {
          "base_uri": "https://localhost:8080/"
        },
        "id": "b728kFA9N20M",
        "outputId": "17a62d1f-f13c-416a-8a40-ecfcbcfa7d71"
      },
      "source": [
        "class MyLinearRegressionModel():\n",
        "  def __init__(self):\n",
        "    self.w = tf.Variable(5.0)\n",
        "    self.b = tf.Variable(0.0)\n",
        "\n",
        "  def predict(self, x):\n",
        "    return self.w * x + self.b\n",
        "\n",
        "model = MyLinearRegressionModel()\n",
        "\n",
        "print(\"Weight:\", model.w)\n",
        "print(\"Bias:\", model.b)\n",
        "\n",
        "y_pred = model.predict(3)\n",
        "print(\"Predicted Value :: \", y_pred.numpy())\n",
        "\n",
        "# Let's assert\n",
        "assert model.predict(3.0).numpy() == 15.0"
      ],
      "execution_count": 47,
      "outputs": [
        {
          "output_type": "stream",
          "name": "stdout",
          "text": [
            "Weight: <tf.Variable 'Variable:0' shape=() dtype=float32, numpy=5.0>\n",
            "Bias: <tf.Variable 'Variable:0' shape=() dtype=float32, numpy=0.0>\n",
            "Predicted Value ::  15.0\n"
          ]
        }
      ]
    },
    {
      "cell_type": "markdown",
      "metadata": {
        "id": "iN89JJeVWgFB"
      },
      "source": [
        "Here, we are passing x = 3, so it should predict, 3*5+0 = 15. If we see Predicted value, it is 15."
      ]
    },
    {
      "cell_type": "markdown",
      "metadata": {
        "id": "sFLH5QWXTddX"
      },
      "source": [
        "### Define Loss Function\n",
        "\n",
        "A loss function measures how well the output of a model for a given input matches the target output. The goal is to minimize this difference during training. Let's define the **mean squared error** which is also known as the standard **L2 loss**. \n",
        "\n",
        "Also Before training the model, let's visualize the loss by plotting the model's prediction(in red) and the training data(in blue)."
      ]
    },
    {
      "cell_type": "code",
      "metadata": {
        "colab": {
          "base_uri": "https://localhost:8080/",
          "height": 395
        },
        "id": "IvFSrh-IPlGE",
        "outputId": "91b71be6-c039-4831-9c19-2e45e7f4aa07"
      },
      "source": [
        "def loss(target_y, predicted_y):\n",
        "  return tf.reduce_mean(tf.square(target_y - predicted_y))\n",
        "\n",
        "plt.scatter(x, y, c=\"b\")\n",
        "plt.scatter(x, model.predict(x), c=\"r\")\n",
        "plt.show()\n",
        "\n",
        "print(\"Current loss: %1.6f\" % loss(y, y_pred).numpy())"
      ],
      "execution_count": 48,
      "outputs": [
        {
          "output_type": "display_data",
          "data": {
            "image/png": "[encoded data removed]",
            "text/plain": [
              "<Figure size 432x432 with 1 Axes>"
            ]
          },
          "metadata": {
            "needs_background": "light"
          }
        },
        {
          "output_type": "stream",
          "name": "stdout",
          "text": [
            "Current loss: 177.974945\n"
          ]
        }
      ]
    },
    {
      "cell_type": "markdown",
      "metadata": {
        "id": "65_hYMaeTEng"
      },
      "source": [
        "### Define a Training loop\n",
        "\n",
        "The training loop consists of repeatedly doing below tasks in order:\n",
        "\n",
        "* Sending a batch of inputs through the model to generate outputs.\n",
        "* Calculating the loss by comparing the outputs to the output (or label).\n",
        "* Using gradient tape to find the gradients.\n",
        "* Optimizing the variables with those gradients."
      ]
    },
    {
      "cell_type": "code",
      "metadata": {
        "id": "Vmabu5gXQFLy"
      },
      "source": [
        "# training loop\n",
        "\n",
        "# Given a callable model, inputs, outputs, and a learning rate...\n",
        "def train(model, x, y, learning_rate):\n",
        "\n",
        "  with tf.GradientTape() as t:\n",
        "    # Trainable variables are automatically tracked by GradientTape\n",
        "    current_loss = loss(y, model.predict(x))\n",
        "\n",
        "  # Use GradientTape to calculate the gradients with respect to W and b\n",
        "  dw, db = t.gradient(current_loss, [model.w, model.b])\n",
        "\n",
        "  # Subtract the gradient scaled by the learning rate\n",
        "  model.w.assign_sub(learning_rate * dw)\n",
        "  model.b.assign_sub(learning_rate * db)"
      ],
      "execution_count": 49,
      "outputs": []
    },
    {
      "cell_type": "code",
      "metadata": {
        "colab": {
          "base_uri": "https://localhost:8080/",
          "height": 561
        },
        "id": "onQwig-yQmf0",
        "outputId": "e0b34c4c-f727-413a-d468-44ae7fc8e90e"
      },
      "source": [
        "model = MyLinearRegressionModel()\n",
        "\n",
        "# Collect the history of W-values and b-values to plot later\n",
        "Ws, bs = [], []\n",
        "epochs = range(10)\n",
        "\n",
        "# Define a training loop\n",
        "def training_loop(model, x, y):\n",
        "\n",
        "  for epoch in epochs:\n",
        "    # Update the model with the single giant batch\n",
        "    train(model, x, y, learning_rate=0.1)\n",
        "\n",
        "    # Track this before I update\n",
        "    Ws.append(model.w.numpy())\n",
        "    bs.append(model.b.numpy())\n",
        "    current_loss = loss(y, model.predict(x))\n",
        "\n",
        "    print(\"Epoch %2d: W=%1.2f b=%1.2f, loss=%2.5f\" %(epoch, Ws[-1], bs[-1], current_loss))\n",
        "\n",
        "  print(\"Starting: W=%1.2f b=%1.2f, loss=%2.5f\" %(model.w, model.b, loss(y, model.predict(x))))\n",
        "\n",
        "# Do the training\n",
        "training_loop(model, x, y)\n",
        "\n",
        "# Plot it\n",
        "plt.plot(epochs, Ws, \"r\", epochs, bs, \"b\")\n",
        "\n",
        "plt.plot([TRUE_W] * len(epochs), \"r--\",\n",
        "         [TRUE_B] * len(epochs), \"b--\")\n",
        "\n",
        "plt.legend([\"W\", \"b\", \"True W\", \"True b\"])\n",
        "plt.show()"
      ],
      "execution_count": 50,
      "outputs": [
        {
          "output_type": "stream",
          "name": "stdout",
          "text": [
            "Epoch  0: W=4.64 b=0.40, loss=6.00727\n",
            "Epoch  1: W=4.34 b=0.72, loss=4.28081\n",
            "Epoch  2: W=4.10 b=0.98, loss=3.15297\n",
            "Epoch  3: W=3.90 b=1.19, loss=2.41584\n",
            "Epoch  4: W=3.74 b=1.35, loss=1.93384\n",
            "Epoch  5: W=3.61 b=1.48, loss=1.61852\n",
            "Epoch  6: W=3.50 b=1.59, loss=1.41214\n",
            "Epoch  7: W=3.41 b=1.67, loss=1.27700\n",
            "Epoch  8: W=3.34 b=1.74, loss=1.18847\n",
            "Epoch  9: W=3.28 b=1.80, loss=1.13044\n",
            "Starting: W=3.28 b=1.80, loss=1.13044\n"
          ]
        },
        {
          "output_type": "display_data",
          "data": {
            "image/png": "[encoded data removed]",
            "text/plain": [
              "<Figure size 432x432 with 1 Axes>"
            ]
          },
          "metadata": {
            "needs_background": "light"
          }
        }
      ]
    },
    {
      "cell_type": "code",
      "metadata": {
        "colab": {
          "base_uri": "https://localhost:8080/",
          "height": 391
        },
        "id": "2L-W6HpoRa-g",
        "outputId": "c8fe2eb3-4418-476a-fa87-24298c79cd11"
      },
      "source": [
        "# Visualize how the trained model performs\n",
        "plt.scatter(x, y, c=\"b\")\n",
        "plt.scatter(x, model.predict(x), c=\"r\")\n",
        "plt.show()\n",
        "\n",
        "print(\"Current loss: %1.6f\" % loss(model.predict(x), y).numpy())"
      ],
      "execution_count": 51,
      "outputs": [
        {
          "output_type": "display_data",
          "data": {
            "image/png": "[encoded data removed]",
            "text/plain": [
              "<Figure size 432x432 with 1 Axes>"
            ]
          },
          "metadata": {
            "needs_background": "light"
          }
        },
        {
          "output_type": "stream",
          "name": "stdout",
          "text": [
            "Current loss: 1.130439\n"
          ]
        }
      ]
    },
    {
      "cell_type": "markdown",
      "metadata": {
        "id": "YbTQ9vXgAgfL"
      },
      "source": [
        "# References\n",
        "\n",
        "https://www.tensorflow.org/guide/basic_training_loops\n",
        "\n",
        "https://github.com/farhadkamangar/CSE5368 \n",
        "\n",
        "https://cognitiveclass.ai/courses/course-v1:BigDataUniversity+ML0120EN+v2\n"
      ]
    },
    {
      "cell_type": "code",
      "metadata": {
        "id": "dx3nDO8zY21I"
      },
      "source": [
        ""
      ],
      "execution_count": 51,
      "outputs": []
    }
  ]
}