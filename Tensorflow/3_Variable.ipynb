{
  "nbformat": 4,
  "nbformat_minor": 0,
  "metadata": {
    "colab": {
      "name": "3_Variable.ipynb",
      "provenance": [],
      "collapsed_sections": [],
      "authorship_tag": "ABX9TyNN/iVHyS72zUvpXmchvQwv",
      "include_colab_link": true
    },
    "kernelspec": {
      "name": "python3",
      "display_name": "Python 3"
    },
    "language_info": {
      "name": "python"
    }
  },
  "cells": [
    {
      "cell_type": "markdown",
      "metadata": {
        "id": "view-in-github",
        "colab_type": "text"
      },
      "source": [
        "<a href=\"https://colab.research.google.com/github/jay-thakur/DataScienceTutorial/blob/main/Tensorflow/3_Variable.ipynb\" target=\"_parent\"><img src=\"https://colab.research.google.com/assets/colab-badge.svg\" alt=\"Open In Colab\"/></a>"
      ]
    },
    {
      "cell_type": "markdown",
      "metadata": {
        "id": "Zz-uLB747xNM"
      },
      "source": [
        "# Variables"
      ]
    },
    {
      "cell_type": "code",
      "metadata": {
        "id": "Nl9-I-tUMkCc",
        "colab": {
          "base_uri": "https://localhost:8080/"
        },
        "outputId": "cb2a4238-477a-418c-eebf-8d73c18dafae"
      },
      "source": [
        "import tensorflow as tf\n",
        "print(\"TensorFlow version:\", tf.__version__)"
      ],
      "execution_count": null,
      "outputs": [
        {
          "output_type": "stream",
          "name": "stdout",
          "text": [
            "TensorFlow version: 2.6.0\n"
          ]
        }
      ]
    },
    {
      "cell_type": "markdown",
      "metadata": {
        "id": "EbzHzwWE-3FI"
      },
      "source": [
        "In TensorFlow, [Variables](https://www.tensorflow.org/guide/variable) are tensor objects that hold values which can be modified during the execution of the program.\n",
        "\n",
        "we can create variables using `tf.Variable`."
      ]
    },
    {
      "cell_type": "markdown",
      "metadata": {
        "id": "9WLoPodzQl70"
      },
      "source": [
        "#### Variable initialised from constant value"
      ]
    },
    {
      "cell_type": "code",
      "metadata": {
        "colab": {
          "base_uri": "https://localhost:8080/"
        },
        "id": "zi7ic1X2A66w",
        "outputId": "e3bd2dea-407c-4c26-a9e5-95e4600f90cf"
      },
      "source": [
        "string_var = tf.Variable(\"this is a string variable\", tf.string)\n",
        "print(\"String variable : \\n\\n\", string_var)\n",
        "\n",
        "int_var = tf.Variable(1234, tf.int16)\n",
        "print(\"\\nInteger variable : \\n\\n\", int_var)\n",
        "\n",
        "float_var = tf.Variable(1.234, tf.float64)\n",
        "print(\"\\nFloat variable : \\n\\n\", float_var)"
      ],
      "execution_count": null,
      "outputs": [
        {
          "output_type": "stream",
          "name": "stdout",
          "text": [
            "String variable : \n",
            "\n",
            " <tf.Variable 'Variable:0' shape=() dtype=string, numpy=b'this is a string variable'>\n",
            "\n",
            "Integer variable : \n",
            "\n",
            " <tf.Variable 'Variable:0' shape=() dtype=int32, numpy=1234>\n",
            "\n",
            "Float variable : \n",
            "\n",
            " <tf.Variable 'Variable:0' shape=() dtype=float32, numpy=1.234>\n"
          ]
        }
      ]
    },
    {
      "cell_type": "markdown",
      "metadata": {
        "id": "V2DdleYzQuI_"
      },
      "source": [
        "#### Variable initialised from Random values"
      ]
    },
    {
      "cell_type": "code",
      "metadata": {
        "colab": {
          "base_uri": "https://localhost:8080/"
        },
        "id": "LUkUOVAvEeHC",
        "outputId": "f9aabd7f-60ac-4176-e323-cc5b1ba25872"
      },
      "source": [
        "initial_value = tf.random.normal(shape=(2, 2))\n",
        "initial_value_var = tf.Variable(initial_value)\n",
        "print(\"Variable created with initial value: \\n\\n\", initial_value_var)"
      ],
      "execution_count": null,
      "outputs": [
        {
          "output_type": "stream",
          "name": "stdout",
          "text": [
            "Variable created with initial value: \n",
            "\n",
            " <tf.Variable 'Variable:0' shape=(2, 2) dtype=float32, numpy=\n",
            "array([[ 0.68447334,  0.48304904],\n",
            "       [ 1.0166498 , -1.3077016 ]], dtype=float32)>\n"
          ]
        }
      ]
    },
    {
      "cell_type": "markdown",
      "metadata": {
        "id": "-0fWUWMHFx5g"
      },
      "source": [
        "We can update the value of a Variable by using the methods `.assign(value)`, or `.assign_add(increment)` or `.assign_sub(decrement)`"
      ]
    },
    {
      "cell_type": "markdown",
      "metadata": {
        "id": "OOI-0u7G0H0D"
      },
      "source": [
        "# References\n",
        "\n",
        "https://www.tensorflow.org/guide/variable\n",
        "\n",
        "https://www.easy-tensorflow.com/tf-tutorials/basics/tensor-types\n",
        "\n",
        "https://datahacker.rs/tensorflow-constants-and-variables/\n",
        "\n",
        "\n",
        "https://github.com/farhadkamangar/CSE5368 \n",
        "\n",
        "https://cognitiveclass.ai/courses/course-v1:BigDataUniversity+ML0120EN+v2\n"
      ]
    },
    {
      "cell_type": "code",
      "metadata": {
        "id": "dqv47p9b5DCw"
      },
      "source": [
        ""
      ],
      "execution_count": null,
      "outputs": []
    }
  ]
}