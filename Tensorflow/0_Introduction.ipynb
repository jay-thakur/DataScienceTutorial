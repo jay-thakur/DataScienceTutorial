{
  "nbformat": 4,
  "nbformat_minor": 0,
  "metadata": {
    "colab": {
      "name": "0_Introduction.ipynb",
      "provenance": [],
      "collapsed_sections": []
    },
    "kernelspec": {
      "name": "python3",
      "display_name": "Python 3"
    },
    "language_info": {
      "name": "python"
    }
  },
  "cells": [
    {
      "cell_type": "markdown",
      "metadata": {
        "id": "OIf8pFN3K0J4"
      },
      "source": [
        "<center><h1>Introduction to Tensorflow</h1></center>"
      ]
    },
    {
      "cell_type": "markdown",
      "metadata": {
        "id": "IP2nMxkH9DWN"
      },
      "source": [
        "# What is Tensorflow\n",
        "\n",
        "* Tensorflow is an open source library/framework developed by google brain team, originally to perform **heavy numerical computations** tasks.\n",
        "\n",
        "* It is used to build & deploy Machine Learning & Deep Learning based applications.\n",
        "\n",
        "* It has C/C++ backened.\n",
        "\n",
        "* Tensorflow uses a **data flow graph** which is very useful to built and execute it in a session."
      ]
    },
    {
      "cell_type": "markdown",
      "metadata": {
        "id": "KXUJ5gSE-BZA"
      },
      "source": [
        "# Why Tensorflow for Deep Learning ?\n",
        "\n",
        "* Works efficiently with mathematical expressions involving multi-dimensional arrays.\n",
        "* Supports CPU, GPU, TPU and Distributed processing.\n",
        "* Extensive built-in support for deep learning.\n",
        "* Faster compile times. \n",
        "* Mathematical functions for neural networks.\n",
        "* Auto differentians & first rate optimizers."
      ]
    },
    {
      "cell_type": "markdown",
      "metadata": {
        "id": "REuLlQeP_CSf"
      },
      "source": [
        "# How does Tensorflow works ?\n",
        "\n",
        "Tensorflow works on execution of a data flow graph and these are made with operations. so we can say that Tensorflow defines a series of operations in a graph.\n",
        "\n",
        "So let's have a closer look.\n",
        "\n",
        "\n",
        "A data flow graph has two basic units. \n",
        "\n",
        "* Nodes - Mathematical operations\n",
        "* Edges - Multidimensional arrays (**Tensors**)\n",
        "\n",
        "The below image represents a graph in TensorFlow. Let's understand it.\n",
        "\n",
        "\n",
        "<center><img src='https://ibm.box.com/shared/static/a94cgezzwbkrq02jzfjjljrcaozu5s2q.png'></center>\n",
        "\n",
        "\n",
        "Here \n",
        "\n",
        "* *W*, *x* and *b* are **tensors** over the edges of this graph. \n",
        "* *MatMul* is an operation over the tensors *W* and *b*\n",
        "\n",
        "* after that *Add* operation is called and it adds the result of the previous operator with *b*. \n",
        "\n",
        "* The resultant tensors of each operation cross the next one until the end where it's possible to get the wanted result."
      ]
    },
    {
      "cell_type": "markdown",
      "metadata": {
        "id": "9fuvrJu0qNoR"
      },
      "source": [
        "**Did you notice**, we are passing **tensors** over the edges. So What is this Tensor?"
      ]
    },
    {
      "cell_type": "markdown",
      "metadata": {
        "id": "r8JZwF6cBW8X"
      },
      "source": [
        "# What is Tensor?\n",
        "\n",
        "The word **tensor** from new latin means \"that which stretches\". \n",
        "\n",
        "It is a mathematical object that is named \"tensor\" because an early application of tensors was the study of materials stretching under tension. So, The contemporary meaning of **tensors** can be taken as **multidimensional arrays**. \n",
        "\n",
        "\n",
        "That's great, but... what are these multidimensional arrays?\n",
        "\n",
        "Let's go back a little bit to physics to understand the concept of dimensions.\n",
        "\n",
        "\n",
        "<img src=\"https://ibm.box.com/shared/static/ymn0hl3hf8s3xb4k15v22y5vmuodnue1.svg\"/>\n",
        "\n",
        "<a href=\"https://en.wikipedia.org/wiki/Dimension?utm_medium=Exinfluencer&utm_source=Exinfluencer&utm_content=000026UJ&utm_term=10006555&utm_id=NA-SkillsNetwork-Channel-SkillsNetworkCoursesIBMDeveloperSkillsNetworkDL0120ENSkillsNetwork20629446-2021-01-01\">Image Source</a>\n",
        "\n",
        "* **Zero (0) dimension** - It can be seen as a **point**, a single object or a single item.\n",
        "\n",
        "* **First(1 or First) dimension** - It can be seen as a **line**, a one-dimensional array can be seen as numbers along this line, or as points along the line. One dimension can contain infinite zero dimension/points elements.\n",
        "\n",
        "* **Second (2 or Two) dimension** - It can be seen as a **surface**, a two-dimensional array can be seen as an infinite series of lines along an infinite line.\n",
        "\n",
        "* **Third (3 or Three) dimension** - It can be seen as **volume**, a three-dimensional array can be seen as an infinite series of surfaces along an infinite line.\n",
        "\n",
        "* **Fourth (4) dimension** - can be seen as the **hyperspace or spacetime**, a volume varying through time, or an **infinite series of volumes** along an infinite line. And so forth on..."
      ]
    },
    {
      "cell_type": "markdown",
      "metadata": {
        "id": "mVe5ATA6DZ3b"
      },
      "source": [
        "Let's Summarize it:<br><br>\n",
        "\n",
        "<table style=\"width:100%\">\n",
        "  <tr>\n",
        "    <td><b>Dimension</b></td>\n",
        "    <td><b>Physical Representation</b></td> \n",
        "    <td><b>Mathematical Object</b></td>\n",
        "    <td><b>In Code</b></td>\n",
        "  </tr>\n",
        "\n",
        "  <tr>\n",
        "    <td>Zero </td>\n",
        "    <td>Point</td> \n",
        "    <td>Scalar (Single Number)</td>\n",
        "    <td>[ 1 ]</td>\n",
        "  </tr>\n",
        "\n",
        "  <tr>\n",
        "    <td>One</td>\n",
        "    <td>Line</td> \n",
        "    <td>Vector (Series of Numbers) </td>\n",
        "    <td>[ 1,2,3,4,... ]</td>\n",
        "  </tr>\n",
        "\n",
        "   <tr>\n",
        "    <td>Two</td>\n",
        "    <td>Surface</td> \n",
        "    <td>Matrix (Table of Numbers)</td>\n",
        "       <td>[ [1,2,3,4,...], [1,2,3,4,...], [1,2,3,4,...],... ]</td>\n",
        "  </tr>\n",
        "\n",
        "   <tr>\n",
        "    <td>Three</td>\n",
        "    <td>Volume</td> \n",
        "    <td>Tensor (Cube of Numbers)</td>\n",
        "    <td>[ [[1,2,...], [1,2,...], [1,2,...],...], [[1,2,...], [1,2,...], [1,2,...],...], [[1,2,...], [1,2,...], [1,2,...] ,...]... ]</td>\n",
        "  </tr>\n",
        "\n",
        "</table>"
      ]
    },
    {
      "cell_type": "markdown",
      "metadata": {
        "id": "URiSD6fWCLOx"
      },
      "source": [
        "# But Why Tensors?\n",
        "\n",
        "The Tensor structure helps us by giving the freedom to shape the dataset in the way we want.\n",
        "\n",
        "And it is particularly helpful when dealing with images, due to the nature of how information in images are encoded.\n",
        "\n",
        "Thinking about images, its easy to understand that it has a height and width, so it would make sense to represent the information contained in it with a two dimensional structure (a matrix)... until you remember that images have colors, and to add information about the colors, we need another dimension, and thats when Tensors become particularly helpful.\n",
        "\n",
        "Images are encoded into color channels, the image data is represented into each color intensity in a color channel at a given point, the most common one being RGB, which means Red, Blue and Green. The information contained into an image is the intensity of each channel color into the width and height of the image, just like this:\n",
        "\n",
        "<img src='https://ibm.box.com/shared/static/xlpv9h5xws248c09k1rlx7cer69y4grh.png'>\n",
        "<br>\n",
        "<a href=\"https://msdn.microsoft.com/en-us/library/windows/desktop/dn424131.aspx?utm_medium=Exinfluencer&utm_source=Exinfluencer&utm_content=000026UJ&utm_term=10006555&utm_id=NA-SkillsNetwork-Channel-SkillsNetworkCoursesIBMDeveloperSkillsNetworkDL0120ENSkillsNetwork20629446-2021-01-01\">Image Source</a>\n",
        "\n",
        "So the intensity of the red channel at each point with width and height can be represented into a matrix, the same goes for the blue and green channels, so we end up having three matrices, and when these are combined they form a tensor."
      ]
    },
    {
      "cell_type": "markdown",
      "metadata": {
        "id": "h0r7_NYwuKHA"
      },
      "source": [
        "Let's see an example with graphical representation.\n",
        "\n",
        "![image.png](data:image/png;base64,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)\n",
        "\n",
        "<a href=\"https://book.mql4.com/variables/arrays?utm_medium=Exinfluencer&utm_source=Exinfluencer&utm_content=000026UJ&utm_term=10006555&utm_id=NA-SkillsNetwork-Channel-SkillsNetworkCoursesIBMDeveloperSkillsNetworkDL0120ENSkillsNetwork20629446-2021-01-01&cm_mmc=Email_Newsletter-_-Developer_Ed%2BTech-_-WW_WW-_-SkillsNetwork-Courses-IBMDeveloperSkillsNetwork-DL0120EN-SkillsNetwork-20629446&cm_mmca1=000026UJ&cm_mmca2=10006555&cm_mmca3=M12345678&cvosrc=email.Newsletter.M12345678&cvo_campaign=000026UJ\">Image Source</a>"
      ]
    },
    {
      "cell_type": "markdown",
      "metadata": {
        "id": "eZg34gjXuz1P"
      },
      "source": [
        "to use tensorflow, we need to install."
      ]
    },
    {
      "cell_type": "markdown",
      "metadata": {
        "id": "MzWzT9Q0ACUd"
      },
      "source": [
        "# How to install Tensorflow?"
      ]
    },
    {
      "cell_type": "markdown",
      "metadata": {
        "id": "byTqI1kpY7OP"
      },
      "source": [
        "### Using pip"
      ]
    },
    {
      "cell_type": "code",
      "metadata": {
        "id": "RpcAGIQA8AlU"
      },
      "source": [
        "!pip install tensorflow==2.2.0"
      ],
      "execution_count": null,
      "outputs": []
    },
    {
      "cell_type": "markdown",
      "metadata": {
        "id": "bagEMDvvZB7_"
      },
      "source": [
        "### Using conda"
      ]
    },
    {
      "cell_type": "code",
      "metadata": {
        "id": "vJAcGP77ZOX2"
      },
      "source": [
        "# uncomment the below line to install using conda\n",
        "\n",
        "# conda install -c fonda-forge tensorflow"
      ],
      "execution_count": null,
      "outputs": []
    },
    {
      "cell_type": "markdown",
      "metadata": {
        "id": "LkX1v1adTezU"
      },
      "source": [
        "# How to confirm Tensorflow is installed ?\n",
        "\n",
        "After installing tensorflow, let's confirm that the library is successfully installed."
      ]
    },
    {
      "cell_type": "code",
      "metadata": {
        "colab": {
          "base_uri": "https://localhost:8080/"
        },
        "id": "e1GGroOKT0-s",
        "outputId": "88832942-67e1-4b82-c6d6-3f2cc9f67191"
      },
      "source": [
        "# need to import to use it\n",
        "import tensorflow as tf\n",
        "print(tf.__version__)"
      ],
      "execution_count": null,
      "outputs": [
        {
          "output_type": "stream",
          "name": "stdout",
          "text": [
            "2.6.0\n"
          ]
        }
      ]
    },
    {
      "cell_type": "markdown",
      "metadata": {
        "id": "ac-DFPmWUDx5"
      },
      "source": [
        "we should see the like **2.6.0**, this tells, tensorflow has been successfully installed & we are all set to use tensorflow. "
      ]
    },
    {
      "cell_type": "markdown",
      "metadata": {
        "id": "uICOBFlRwL1i"
      },
      "source": [
        "**Note:-** We will work with Tensorflow 2.x"
      ]
    },
    {
      "cell_type": "markdown",
      "metadata": {
        "id": "VWP1Q4oA_0J3"
      },
      "source": [
        "# Why Tensorflow 2.x\n",
        "\n",
        "Let's see an example in **Tensorflow 1.x** - "
      ]
    },
    {
      "cell_type": "code",
      "metadata": {
        "id": "1dWZQJu3yK72"
      },
      "source": [
        "#!pip install tensorflow==1.8.0\n",
        "\n",
        "# this is Tensorflow1.x code\n",
        "import tensorflow as tf\n",
        "\n",
        "x1 = 2\n",
        "x2 = 3\n",
        "\n",
        "with tf.Session() as sess:\n",
        "  y = tf.add(x1, x2)\n",
        "  print(y)\n",
        "  sess.close()"
      ],
      "execution_count": null,
      "outputs": []
    },
    {
      "cell_type": "markdown",
      "metadata": {
        "id": "rKzYpodez-qy"
      },
      "source": [
        "Let's see the example in **Tensorflow 2.x** - "
      ]
    },
    {
      "cell_type": "code",
      "metadata": {
        "colab": {
          "base_uri": "https://localhost:8080/"
        },
        "id": "cOayLCmM0Ddh",
        "outputId": "eb4f0502-b4f2-482e-f252-f01fbf8b7b78"
      },
      "source": [
        "import tensorflow as tf\n",
        "\n",
        "x1 = 2\n",
        "x2 = 3\n",
        "\n",
        "y = tf.add(x1, x2)\n",
        "print(y)"
      ],
      "execution_count": null,
      "outputs": [
        {
          "output_type": "stream",
          "name": "stdout",
          "text": [
            "tf.Tensor(5, shape=(), dtype=int32)\n"
          ]
        }
      ]
    },
    {
      "cell_type": "markdown",
      "metadata": {
        "id": "99MCTWq7x9Y7"
      },
      "source": [
        "did you get the difference ? \n",
        "\n",
        "to run any operations in Tensorflow 1.x, it needs to run in a session. A session represents the environment in which the operations are executed.\n",
        "\n",
        "So Before version 2.x, every graph had to be run wihthin a TensorFlow session. This only allowed for the entire graph to be run all at once. This would make debugging the computation graph each time more difficult.\n",
        "\n",
        "**TensorFlow 2.x**, comes with **Eager Execution** (<a href=\"https://www.tensorflow.org/guide/eager\">learn more</a>) by default. This allows TensorFlow code to be executed and evaluated line by line."
      ]
    },
    {
      "cell_type": "markdown",
      "metadata": {
        "id": "gGxH5N4Mq04N"
      },
      "source": [
        "# Can you guess ? Why is it called as **Tensorflow** ?\n",
        "\n",
        "**In Tensorflow all data is passed between operations in a computation graph, and these are passed in the form of Tensors, Hence the name TensorFlow.**"
      ]
    },
    {
      "cell_type": "markdown",
      "metadata": {
        "id": "brGKGmzgIruv"
      },
      "source": [
        "# References\n",
        "\n",
        "https://www.tensorflow.org/tutorials\n",
        "\n",
        "https://en.wikipedia.org/wiki/Dimension\n",
        "\n",
        "https://www.analyticsvidhya.com/blog/2020/03/tensorflow-2-tutorial-deep-learning/\n",
        "\n",
        "https://towardsdatascience.com/the-ultimate-beginners-guide-to-tensorflow-41d3b8e7d0c7\n",
        "\n",
        "https://cognitiveclass.ai/courses/course-v1:BigDataUniversity+ML0120EN+v2\n",
        "\n"
      ]
    },
    {
      "cell_type": "code",
      "metadata": {
        "id": "ekdSQeuDIt0V"
      },
      "source": [
        ""
      ],
      "execution_count": null,
      "outputs": []
    }
  ]
}