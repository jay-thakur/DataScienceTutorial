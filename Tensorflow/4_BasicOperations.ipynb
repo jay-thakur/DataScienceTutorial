{
  "nbformat": 4,
  "nbformat_minor": 0,
  "metadata": {
    "colab": {
      "name": "4_BasicOperations.ipynb",
      "provenance": [],
      "collapsed_sections": [],
      "authorship_tag": "ABX9TyNAln0oMIKiDHpxmM8tip+I",
      "include_colab_link": true
    },
    "kernelspec": {
      "name": "python3",
      "display_name": "Python 3"
    },
    "language_info": {
      "name": "python"
    }
  },
  "cells": [
    {
      "cell_type": "markdown",
      "metadata": {
        "id": "view-in-github",
        "colab_type": "text"
      },
      "source": [
        "<a href=\"https://colab.research.google.com/github/jay-thakur/DataScienceTutorial/blob/main/Tensorflow/4_BasicOperations.ipynb\" target=\"_parent\"><img src=\"https://colab.research.google.com/assets/colab-badge.svg\" alt=\"Open In Colab\"/></a>"
      ]
    },
    {
      "cell_type": "markdown",
      "metadata": {
        "id": "P1JorMfpL_UJ"
      },
      "source": [
        "# Operations"
      ]
    },
    {
      "cell_type": "code",
      "metadata": {
        "id": "hfCfrQUDNX-6",
        "colab": {
          "base_uri": "https://localhost:8080/"
        },
        "outputId": "eca83d8e-0f01-4e23-8bfa-0e55e305201e"
      },
      "source": [
        "import tensorflow as tf\n",
        "print(\"TensorFlow version:\", tf.__version__)"
      ],
      "execution_count": null,
      "outputs": [
        {
          "output_type": "stream",
          "name": "stdout",
          "text": [
            "TensorFlow version: 2.6.0\n"
          ]
        }
      ]
    },
    {
      "cell_type": "markdown",
      "metadata": {
        "id": "I3Bzb-j3FwdV"
      },
      "source": [
        "Operations are nodes that perform the mathematical operations over the tensors on a graph. \n",
        "\n",
        "An operations takes zero or more Tensor(s) as input and produces zero or more Tensors as output.\n",
        "\n",
        "Operations can be any kind of functions like add and subtract tensor or maybe an activation function.\n"
      ]
    },
    {
      "cell_type": "markdown",
      "metadata": {
        "id": "sf1a-k3noLLN"
      },
      "source": [
        "# Basic Math Operations"
      ]
    },
    {
      "cell_type": "markdown",
      "metadata": {
        "id": "ADIcXwcIrWcy"
      },
      "source": [
        "#### Add"
      ]
    },
    {
      "cell_type": "code",
      "metadata": {
        "id": "fC4WNib9F5jk"
      },
      "source": [
        "a = tf.constant([5])\n",
        "b = tf.constant([2])"
      ],
      "execution_count": null,
      "outputs": []
    },
    {
      "cell_type": "code",
      "metadata": {
        "id": "16-E1HOyrh0X"
      },
      "source": [
        "c = tf.add(a,b)\n",
        "print ('c =: %s' % c)"
      ],
      "execution_count": null,
      "outputs": []
    },
    {
      "cell_type": "markdown",
      "metadata": {
        "id": "3_GGM4gLrucD"
      },
      "source": [
        "#### Subtract"
      ]
    },
    {
      "cell_type": "code",
      "metadata": {
        "colab": {
          "base_uri": "https://localhost:8080/"
        },
        "id": "z8newGvIrmUA",
        "outputId": "b0476fe9-6955-4b6b-bb1d-e1da09eb880f"
      },
      "source": [
        "d = tf.subtract(a,b)\n",
        "print ('d =: %s' % d)"
      ],
      "execution_count": null,
      "outputs": [
        {
          "output_type": "stream",
          "name": "stdout",
          "text": [
            "d =: tf.Tensor([3], shape=(1,), dtype=int32)\n"
          ]
        }
      ]
    },
    {
      "cell_type": "markdown",
      "metadata": {
        "id": "-DG7ogUxr0Fy"
      },
      "source": [
        "#### Multiply"
      ]
    },
    {
      "cell_type": "code",
      "metadata": {
        "colab": {
          "base_uri": "https://localhost:8080/"
        },
        "id": "-MAVmJe6r5ES",
        "outputId": "1aa85cc0-1599-464b-f85b-8815acef8934"
      },
      "source": [
        "e = tf.multiply(a,b)\n",
        "print ('e =: %s' % e)"
      ],
      "execution_count": null,
      "outputs": [
        {
          "output_type": "stream",
          "name": "stdout",
          "text": [
            "e =: tf.Tensor([10], shape=(1,), dtype=int32)\n"
          ]
        }
      ]
    },
    {
      "cell_type": "markdown",
      "metadata": {
        "id": "LOhiulEPsFAl"
      },
      "source": [
        "#### Division"
      ]
    },
    {
      "cell_type": "code",
      "metadata": {
        "colab": {
          "base_uri": "https://localhost:8080/"
        },
        "id": "w3q9UQPzsHJ3",
        "outputId": "81545711-a683-4edf-ab95-31570e30d073"
      },
      "source": [
        "f = tf.divide(a, b)\n",
        "print ('f =: %s' % f)"
      ],
      "execution_count": null,
      "outputs": [
        {
          "output_type": "stream",
          "name": "stdout",
          "text": [
            "f =: tf.Tensor([2.5], shape=(1,), dtype=float64)\n"
          ]
        }
      ]
    },
    {
      "cell_type": "markdown",
      "metadata": {
        "id": "LDXsZr8asnVZ"
      },
      "source": [
        "#### Pow"
      ]
    },
    {
      "cell_type": "code",
      "metadata": {
        "colab": {
          "base_uri": "https://localhost:8080/"
        },
        "id": "l_az5PjJsuxL",
        "outputId": "afefbd91-e328-4ddc-8053-5ba3a217a1f8"
      },
      "source": [
        "g = tf.pow(a, b)\n",
        "print ('g =: %s' % g)"
      ],
      "execution_count": null,
      "outputs": [
        {
          "output_type": "stream",
          "name": "stdout",
          "text": [
            "g =: tf.Tensor([25], shape=(1,), dtype=int32)\n"
          ]
        }
      ]
    },
    {
      "cell_type": "markdown",
      "metadata": {
        "id": "FOyiwsaXs66Y"
      },
      "source": [
        "#### Sqrt"
      ]
    },
    {
      "cell_type": "code",
      "metadata": {
        "id": "XxSlo9dCs-Vd"
      },
      "source": [
        "tf.sqrt(a)"
      ],
      "execution_count": null,
      "outputs": []
    },
    {
      "cell_type": "markdown",
      "metadata": {
        "id": "i4o0f-srs3jM"
      },
      "source": [
        "#### Exp"
      ]
    },
    {
      "cell_type": "code",
      "metadata": {
        "id": "F_nozC70s6e2"
      },
      "source": [
        "tf.exp(a)"
      ],
      "execution_count": null,
      "outputs": []
    },
    {
      "cell_type": "markdown",
      "metadata": {
        "id": "ObKBuvAptufV"
      },
      "source": [
        "# Matrix Multiplication"
      ]
    },
    {
      "cell_type": "code",
      "metadata": {
        "id": "k-uedUQdNhxP",
        "colab": {
          "base_uri": "https://localhost:8080/"
        },
        "outputId": "d4d5c96a-2fb8-4242-ac1a-a6400786a5d2"
      },
      "source": [
        "matrix1 = tf.constant([[3., 3.]])\n",
        "matrix2 = tf.constant([[2.],[2.]])\n",
        "\n",
        "product = tf.matmul(matrix1, matrix2)\n",
        "print(\"Matrix multiplication:\", product)"
      ],
      "execution_count": null,
      "outputs": [
        {
          "output_type": "stream",
          "name": "stdout",
          "text": [
            "Matrix multiplication: tf.Tensor([[12.]], shape=(1, 1), dtype=float32)\n"
          ]
        }
      ]
    },
    {
      "cell_type": "markdown",
      "metadata": {
        "id": "e_L7OY_pud_J"
      },
      "source": [
        "# Assign Value\n",
        "\n",
        "We can update the value of a Variable by using the methods `.assign(value)`, or `.assign_add(increment)` or `.assign_sub(decrement)`"
      ]
    },
    {
      "cell_type": "code",
      "metadata": {
        "colab": {
          "base_uri": "https://localhost:8080/"
        },
        "id": "TbfAJR93NdxI",
        "outputId": "c5a9d1d9-179e-452a-f2d1-2db5080dc8f0"
      },
      "source": [
        "# crete a variable with value 0\n",
        "var = tf.Variable(0)\n",
        "print(\"Var is : \\n\", var)\n",
        "\n",
        "# now assign var a new value 2\n",
        "new_variable = tf.Variable(2)\n",
        "var.assign(new_variable)\n",
        "print(\"\\nNew Var is : \", var)"
      ],
      "execution_count": null,
      "outputs": [
        {
          "output_type": "stream",
          "name": "stdout",
          "text": [
            "Var is : \n",
            " <tf.Variable 'Variable:0' shape=() dtype=int32, numpy=0>\n",
            "\n",
            "New Var is :  <tf.Variable 'Variable:0' shape=() dtype=int32, numpy=2>\n"
          ]
        }
      ]
    },
    {
      "cell_type": "markdown",
      "metadata": {
        "id": "veKzt70x-lsC"
      },
      "source": [
        "notice the var value is now `2`."
      ]
    },
    {
      "cell_type": "code",
      "metadata": {
        "id": "tVQ-AYzS-qAw"
      },
      "source": [
        "# add a varible in the var & assign it\n",
        "add_value = tf.Variable(5)\n",
        "var.assign_add(add_value)\n",
        "print(\"\\n After adding the new Var is : \", var)"
      ],
      "execution_count": null,
      "outputs": []
    },
    {
      "cell_type": "code",
      "metadata": {
        "id": "8fV5gFce-sMK"
      },
      "source": [
        "# decrement var by new value & assign it\n",
        "sub_value = tf.Variable(3)\n",
        "var.assign_sub(sub_value)\n",
        "print(\"\\n After decrementing the new Var is : \", var)"
      ],
      "execution_count": null,
      "outputs": []
    },
    {
      "cell_type": "markdown",
      "metadata": {
        "id": "61BlM1Ij-v8I"
      },
      "source": [
        "In neural network, we can create mutable states (like weights, biases) using variables."
      ]
    },
    {
      "cell_type": "code",
      "metadata": {
        "id": "HhCiH2m--zPb"
      },
      "source": [
        "# Let's create weight and update it with new weight value\n",
        "w = tf.Variable(tf.random.normal(shape=(2, 2), mean=0., stddev=1.))\n",
        "\n",
        "print('Weight : \\n\\n', w)\n",
        "\n",
        "w_add = tf.Variable(tf.random.normal(shape=(2, 2), mean=0., stddev=1.))\n",
        "print('\\n Weight to be added : \\n\\n', w_add)\n",
        "\n",
        "w.assign_add(w_add)\n",
        "print('\\n Updated Weight : \\n\\n', w)"
      ],
      "execution_count": null,
      "outputs": []
    },
    {
      "cell_type": "markdown",
      "metadata": {
        "id": "pwDx12rJuo8Y"
      },
      "source": [
        "# Casting"
      ]
    },
    {
      "cell_type": "code",
      "metadata": {
        "id": "rEeSpqaSNlai",
        "colab": {
          "base_uri": "https://localhost:8080/"
        },
        "outputId": "6aeca3d0-d5bf-494c-f553-9aca7db7ac67"
      },
      "source": [
        "a = tf.convert_to_tensor(2.)\n",
        "b = tf.cast(a, tf.int32)\n",
        "print(a)\n",
        "print(b)"
      ],
      "execution_count": null,
      "outputs": [
        {
          "output_type": "stream",
          "name": "stdout",
          "text": [
            "tf.Tensor(2.0, shape=(), dtype=float32)\n",
            "tf.Tensor(2, shape=(), dtype=int32)\n"
          ]
        }
      ]
    },
    {
      "cell_type": "markdown",
      "metadata": {
        "id": "_uQ2J4SHu1y5"
      },
      "source": [
        "# Shape"
      ]
    },
    {
      "cell_type": "code",
      "metadata": {
        "id": "hkNErooCNP1r",
        "colab": {
          "base_uri": "https://localhost:8080/"
        },
        "outputId": "9ca0eed4-86e5-447e-d4c0-aa14384b5162"
      },
      "source": [
        "a = tf.ones([2,3])\n",
        "print(a.shape[0], a.shape[1]) # 2, 3\n",
        "shape = tf.shape(a)           # a tensor\n",
        "print(shape[0], shape[1])"
      ],
      "execution_count": null,
      "outputs": [
        {
          "output_type": "stream",
          "name": "stdout",
          "text": [
            "2 3\n",
            "tf.Tensor(2, shape=(), dtype=int32) tf.Tensor(3, shape=(), dtype=int32)\n"
          ]
        }
      ]
    },
    {
      "cell_type": "markdown",
      "metadata": {
        "id": "48A918iXxtou"
      },
      "source": [
        "### Reshape\n",
        "The number of elements of a tensor is the product of the sizes of all its shapes. There are often many shapes that have the same number of elements, making it convient to be able to change the shape of a tensor.\n",
        "\n",
        "The example below shows how to change the shape of a tensor."
      ]
    },
    {
      "cell_type": "code",
      "metadata": {
        "id": "DlK081gSt3t_",
        "colab": {
          "base_uri": "https://localhost:8080/"
        },
        "outputId": "e7c2e2c4-4eda-418e-cdfb-42f4801c549f"
      },
      "source": [
        "# creating a ones tensor of shape [1,2,3]\n",
        "tensor1 = tf.ones([1,2,3])\n",
        "print(\"\\n Initial Tensor : \\n\\n \", tensor1)\n",
        "\n",
        "# reshape tensor1 to shape [2,3,1]\n",
        "tensor2 = tf.reshape(tensor1, [2,3,1]) \n",
        "print(\"\\n After Reshaping : \\n\\n \", tensor2)\n",
        "\n",
        "# reshape again\n",
        "tensor3 = tf.reshape(tensor2, [3, -1])  # -1 tells the tensor to calculate the size of the dimension in that place\n",
        "print(\"\\n Again After Reshaping : \\n\\n \", tensor3)                                       "
      ],
      "execution_count": null,
      "outputs": [
        {
          "output_type": "stream",
          "name": "stdout",
          "text": [
            "\n",
            " Initial Tensor : \n",
            "\n",
            "  tf.Tensor(\n",
            "[[[1. 1. 1.]\n",
            "  [1. 1. 1.]]], shape=(1, 2, 3), dtype=float32)\n",
            "\n",
            " After Reshaping : \n",
            "\n",
            "  tf.Tensor(\n",
            "[[[1.]\n",
            "  [1.]\n",
            "  [1.]]\n",
            "\n",
            " [[1.]\n",
            "  [1.]\n",
            "  [1.]]], shape=(2, 3, 1), dtype=float32)\n",
            "\n",
            " Again After Reshaping : \n",
            "\n",
            "  tf.Tensor(\n",
            "[[1. 1.]\n",
            " [1. 1.]\n",
            " [1. 1.]], shape=(3, 2), dtype=float32)\n"
          ]
        }
      ]
    },
    {
      "cell_type": "markdown",
      "metadata": {
        "id": "b4MrMwB0njCf"
      },
      "source": [
        "The numer of elements in the reshaped tensor MUST match the number in the original."
      ]
    },
    {
      "cell_type": "markdown",
      "metadata": {
        "id": "1-YsM492x6a2"
      },
      "source": [
        "###Slicing Tensors\n",
        "We can use the slice operator on tensors to select specific axes or elements.\n",
        "\n",
        "When we slice or select elements from a tensor, we can use comma seperated values inside the set of square brackets. Each subsequent value refrences a different dimension of the tensor.\n",
        "\n",
        "Ex: ```tensor[dim1, dim2, dim3]```"
      ]
    },
    {
      "cell_type": "code",
      "metadata": {
        "colab": {
          "base_uri": "https://localhost:8080/"
        },
        "id": "oWAQQnRJyC9N",
        "outputId": "7e3ae92c-eb96-43c3-efe1-8e447fcb0e26"
      },
      "source": [
        "# Creating a 2D tensor\n",
        "matrix = [[1,2,3,4,5],\n",
        "          [6,7,8,9,10],\n",
        "          [11,12,13,14,15],\n",
        "          [16,17,18,19,20]]\n",
        "\n",
        "tensor = tf.Variable(matrix, dtype=tf.int32) \n",
        "print(tf.rank(tensor))\n",
        "print(tensor.shape)\n",
        "\n",
        "# Now lets select some different rows and columns from our tensor\n",
        "\n",
        "three = tensor[0,2]  # selects the 3rd element from the 1st row\n",
        "print(three)  # -> 3\n",
        "\n",
        "row1 = tensor[0]  # selects the first row\n",
        "print(row1)\n",
        "\n",
        "column1 = tensor[:, 0]  # selects the first column\n",
        "print(column1)\n",
        "\n",
        "row_2_and_4 = tensor[1::2]  # selects second and fourth row\n",
        "print(row_2_and_4)\n",
        "\n",
        "column_1_in_row_2_and_3 = tensor[1:3, 0]\n",
        "print(column_1_in_row_2_and_3)"
      ],
      "execution_count": null,
      "outputs": [
        {
          "output_type": "stream",
          "name": "stdout",
          "text": [
            "tf.Tensor(2, shape=(), dtype=int32)\n",
            "(4, 5)\n",
            "tf.Tensor(3, shape=(), dtype=int32)\n",
            "tf.Tensor([1 2 3 4 5], shape=(5,), dtype=int32)\n",
            "tf.Tensor([ 1  6 11 16], shape=(4,), dtype=int32)\n",
            "tf.Tensor(\n",
            "[[ 6  7  8  9 10]\n",
            " [16 17 18 19 20]], shape=(2, 5), dtype=int32)\n",
            "tf.Tensor([ 6 11], shape=(2,), dtype=int32)\n"
          ]
        }
      ]
    },
    {
      "cell_type": "markdown",
      "metadata": {
        "id": "VjAzN0qXz2ld"
      },
      "source": [
        "# Better Performance with `tf.function`\n",
        "\n",
        "We have learnt that, In TensorFlow 2, <a href='https://colab.research.google.com/github/tensorflow/docs/blob/master/site/en/guide/eager.ipynb'>eager execution</a> is turned on by default. but this can come at the expense of performance and deployability.\n",
        "\n",
        "We can use `tf.function` to make graphs out of your programs. It is a transformation tool that creates Python-independent dataflow graphs out of your Python code. This will help us create performant and portable models, and it is required to use SavedModel."
      ]
    },
    {
      "cell_type": "markdown",
      "metadata": {
        "id": "CZaZDUvq84vA"
      },
      "source": [
        "### Example"
      ]
    },
    {
      "cell_type": "code",
      "metadata": {
        "id": "QkAr8C9jEU9T"
      },
      "source": [
        "a = tf.constant([2], name = 'constant_a')\n",
        "b = tf.constant([3], name = 'constant_b')"
      ],
      "execution_count": null,
      "outputs": []
    },
    {
      "cell_type": "markdown",
      "metadata": {
        "id": "jHepUgi9Eawh"
      },
      "source": [
        "Lets add 2 constants to our graph. \n",
        "\n",
        "Here calling `tf.constant([2], name = 'constant_a')` adds a single `tf.Operation` to the default graph. This operation produces the value 2, and returns a tf.Tensor that represents the value of the constant.\n",
        "\n",
        "Similarly `b = tf.constant([3], name = 'constant_b')`."
      ]
    },
    {
      "cell_type": "markdown",
      "metadata": {
        "id": "nu_tuuYhEnHu"
      },
      "source": [
        "Annotating the python functions with **tf.function** uses TensorFlow Autograph to create a TensorFlow **static execution graph** for the function.   tf.function annotation tells TensorFlow Autograph to transform function *add* into TensorFlow control flow, which then defines the TensorFlow static execution graph. this `static graph` improves the time.\n",
        "\n"
      ]
    },
    {
      "cell_type": "code",
      "metadata": {
        "id": "XJtIFv_FEiNH"
      },
      "source": [
        "@tf.function\n",
        "def add(a,b):\n",
        "    c = tf.add(a, b)\n",
        "    return c\n",
        "result = add(a,b)"
      ],
      "execution_count": null,
      "outputs": []
    },
    {
      "cell_type": "markdown",
      "metadata": {
        "id": "34ltLMLoEzOo"
      },
      "source": [
        "Even this silly example of adding 2 constants to reach a simple result defines the basis of TensorFlow. Likewise we can define out own operations (In this case our constants and *tf.add*) and decorate it with using the *tf.function* annotator."
      ]
    },
    {
      "cell_type": "markdown",
      "metadata": {
        "id": "JESU2cBKnqLk"
      },
      "source": [
        "# References\n",
        "\n",
        "https://github.com/SciSharp/TensorFlow.NET/blob/master/docs/source/Operation.md\n",
        "\n",
        "https://www.tensorflow.org/lite/guide/ops_compatibility\n",
        "\n",
        "https://www.tensorflow.org/api_docs/python/tf/function\n",
        "\n",
        "https://github.com/farhadkamangar/CSE5368 \n",
        "\n",
        "https://cognitiveclass.ai/courses/course-v1:BigDataUniversity+ML0120EN+v2\n",
        "\n"
      ]
    },
    {
      "cell_type": "code",
      "metadata": {
        "id": "5xaPf_NansJ6"
      },
      "source": [
        ""
      ],
      "execution_count": null,
      "outputs": []
    }
  ]
}